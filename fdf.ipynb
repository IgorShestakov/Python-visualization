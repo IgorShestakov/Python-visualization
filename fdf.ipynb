https://colab.research.google.com/drive/1h_LcJSPEBDHtgbzYJAvuRif0o032G8Rf
